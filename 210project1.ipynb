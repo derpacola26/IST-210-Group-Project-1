{
  "nbformat": 4,
  "nbformat_minor": 0,
  "metadata": {
    "colab": {
      "name": "210project1.ipynb",
      "provenance": [],
      "collapsed_sections": [],
      "include_colab_link": true
    },
    "kernelspec": {
      "name": "python3",
      "display_name": "Python 3"
    }
  },
  "cells": [
    {
      "cell_type": "markdown",
      "metadata": {
        "id": "view-in-github",
        "colab_type": "text"
      },
      "source": [
        "<a href=\"https://colab.research.google.com/github/derpacola26/IST-210-Group-Project-1/blob/master/210project1.ipynb\" target=\"_parent\"><img src=\"https://colab.research.google.com/assets/colab-badge.svg\" alt=\"Open In Colab\"/></a>"
      ]
    },
    {
      "cell_type": "markdown",
      "metadata": {
        "id": "SXNCvvKTgvSE",
        "colab_type": "text"
      },
      "source": [
        "Concept One: Music Software \n",
        "This concept would put songs in categories for a music streaming software. This idea is similar to Apple Music and Spotify. Our application would be available for computers and mobile devices. Our software would be used to take what music people listen to and give them artists and songs they might not know to expand their music tastes. Table One: Song Information- The information from this table will be used to help users move around the platform. There would be different genres to explore, pages for artists, and naturally the names of the songs. Table Two: User Information- This is a profile for users to store what artists and songs they like, create playlists, look at their data, and know if they have a premium (ad free) membership or not. Table Three: User Transaction- This would keep track of when the user would have purchased a premium membership, the cost, how long they've had it, and when it must be renewed. Table Four: Song Plays- This would keep track of how many times a song is played, the frequency within the plays, and the type of users who listen to the song. This would be used to create charts and playlists for diffrent users. Table Five: Podcasts- Podcasts would be listed in their own section. This would have the podcasts decription, the user who posted it, and different metrics on popularity and time listened. There would also be genres in podcasts, allowing users to explore podcasts similar to the ones they already listen to. \n"
      ]
    },
    {
      "cell_type": "markdown",
      "metadata": {
        "id": "Z4Wx0ygMzq_A",
        "colab_type": "text"
      },
      "source": [
        "Concept Two: Pool Laps Efficiency. This concept would help lap swimmers track the amount of laps they swim without losing track and also being able to progressively improve the amount of laps you swim within a certain given amount of time, through a modified fitbit and an app on their phone. This idea is unique because this type of technology has yet to be developed for an individual person who would want to track the amount of laps that they swim. However, I came up with this idea while I was at work, since I'm a lifeguard, here at PSU and a patron approached me saying that he wished there was a way to track how much he swims because he keeps losing track and can't really track his progress. Table One: Current Fitness level assessment- The information in this table would include the individual's weight, height, BMI, and any other health information. Table Two: Current swimming ability- This would include the time and amount of laps the individual currently can swim and how they feel afterwards. Table Three: Lap Goals- This is where the individual would input what they would like to achieve such as amount of laps in how much time and how he would feel afterwards. Table Four: The individual would input what kids of strokes they swam for and approximate the amount of laps for each stroke totaling up to the actual amount that the app has calculated for them. Table Five: Progress-This table would have the total progress to date like the most amount of laps swam in one session, the longest time they swam for without feeling exhausted, how far they are time wise and lap wise from their goal, and the stroke that they usually swim the most laps in."
      ]
    },
    {
      "cell_type": "markdown",
      "metadata": {
        "id": "YLFAuv0OzuBP",
        "colab_type": "text"
      },
      "source": [
        "Concept Three: Car Dealership Best Selling. The idea of this is to allow a car dealership to take inventory and manage the car sales that they make, as well as giving people more details about the vehicles available. This would be done through a convenient app on a smartphone that would connect to the dealer's internal record of vehicle stocks and provide information to each employee when they talk to customers about making a sale. Since as a dealership employee, customers may have a lot of questions about specifics about vehicle stock, model, trim level, price or other features, it is difficult to know all the specifics about a particular vehicle off the top of your head. This app ideally would make it so the employee could answer these questions when asked. Table One: Vehicle Basic Information - this is where the dealership would record a basic list of vehicle info, such as make, model, year, color and trim level. Table Two: Options and Features - This is where a vehicle would have listed extra options such as a sunroof, navigation, or leather seats. Table Three: Pricing - Vehicles would feature detailed pricing information here, like MSRP and lease cost per month if the dealer offers it. Table Four: Inventory - Dealer would be able to list how many of a particular vehicle trim and options they have available at the current time. Additionally, this could include vehicles on a secondary lot or on backorder. If the vehicles aren't there when the customer asks, this table could include how many are needed for shipment. Table Five: Sales Records - For each vehicle sold by the dealer, information would be recorded to verify that purchase, should it ever come into question. This would include type of payment, final price paid, warranty coverage, date of payment and the name of the customer that purchased the vehicle. "
      ]
    }
  ]
}