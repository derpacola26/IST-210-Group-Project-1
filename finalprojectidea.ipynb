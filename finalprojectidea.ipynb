{
  "nbformat": 4,
  "nbformat_minor": 0,
  "metadata": {
    "colab": {
      "name": "finalprojectidea.ipynb",
      "provenance": [],
      "include_colab_link": true
    },
    "kernelspec": {
      "name": "python3",
      "display_name": "Python 3"
    }
  },
  "cells": [
    {
      "cell_type": "markdown",
      "metadata": {
        "id": "view-in-github",
        "colab_type": "text"
      },
      "source": [
        "<a href=\"https://colab.research.google.com/github/derpacola26/IST-210-Group-Project-1/blob/master/finalprojectidea.ipynb\" target=\"_parent\"><img src=\"https://colab.research.google.com/assets/colab-badge.svg\" alt=\"Open In Colab\"/></a>"
      ]
    },
    {
      "cell_type": "code",
      "metadata": {
        "id": "mViYuX8g-5da",
        "colab_type": "code",
        "colab": {}
      },
      "source": [
        ""
      ],
      "execution_count": 0,
      "outputs": []
    },
    {
      "cell_type": "markdown",
      "metadata": {
        "id": "9o4C8aK2DzRK",
        "colab_type": "text"
      },
      "source": [
        "Final Project Idea: Music Streaming Software.\n",
        "We decided that we would pursue the music streaming service for our final project. Whenever a user would enter the app, they would create an account, or have an account made for them. The information for this account would be stored in the User Information entity. This is where the user's name, email, level of user, playlists, and saved artists & albums. Our program would also keep track of the amount of time a user has spent listening to music and the songs/artists/albums/playlists they have been listening to. For restraints, programs would make sure the email was legitimate. We would also have restraints on characters for playlists, along with censorship on creating inappropriate usernames.The most important connection between entities in terms of the user is the one-to-one connection with the User Transaction table. The User Transaction table would hold a user's card number, if the payment was automatic, keep track of the total amount the user had been charged, and let them know when the next payment would be due. For restrictions, there would be a limit as to how many characters the card number has, along with checking it as a legitimate card number. Otherwise, computer programs would keep track of all of the other information. There is also a podcasts section of our app. The podcasts would be published by certain users. There would be an episode name, we would track who listens to the podcast, the genre the podcast is in, the total plays of the podcast, and the average amount of time a user listened to the podcast. There are not many restraints needed for this portion, but the genre of podcast would be selected by the person who posted the podcast. This has a many to one relationship with User Information, connecting to keeping track of what the user has been listening to. Within the Song Information entity, we would include the title, artist, album/single, genre, and cover art. Some constraints to this may be a song having multiple artists of the artist that the user has inputted, isn't the original artist of the song and not having a very good cover art display, referring to a potentially different song. This entity has a many to many relationship with the Song Plays entity which has a many to one relationship to the User Information entity, which was described above. The Song plays entity has attributes such as Plays a user has on the song the amount of plays across the platform, the amount of plays an album has, how many plays it has gotten daily/weekly/monthly compared to total plays, and the songs users also listen to. Constraints for these attributes may include a misrepresentation of the amount of users listening to the songs because it can also count the amount of replays by the same user and same goes for all of the counts for every platform, song, and comparisons. This can make the data more accurate when it comes calculating the true amount of plays.\n"
      ]
    }
  ]
}